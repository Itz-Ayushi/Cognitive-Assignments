{
  "nbformat": 4,
  "nbformat_minor": 0,
  "metadata": {
    "colab": {
      "provenance": [],
      "authorship_tag": "ABX9TyObBVBvDLt5wHTt5gZ3P6OH",
      "include_colab_link": true
    },
    "kernelspec": {
      "name": "python3",
      "display_name": "Python 3"
    },
    "language_info": {
      "name": "python"
    }
  },
  "cells": [
    {
      "cell_type": "markdown",
      "metadata": {
        "id": "view-in-github",
        "colab_type": "text"
      },
      "source": [
        "<a href=\"https://colab.research.google.com/github/Itz-Ayushi/Cognitive-Assignments/blob/main/Assignment4.ipynb\" target=\"_parent\"><img src=\"https://colab.research.google.com/assets/colab-badge.svg\" alt=\"Open In Colab\"/></a>"
      ]
    },
    {
      "cell_type": "markdown",
      "source": [
        "Ques 1\n"
      ],
      "metadata": {
        "id": "u5wvCCeNW-Wc"
      }
    },
    {
      "cell_type": "code",
      "execution_count": 6,
      "metadata": {
        "colab": {
          "base_uri": "https://localhost:8080/"
        },
        "id": "w_zcVIB9GZ7v",
        "outputId": "dbf14651-555f-4b14-bfb5-c8e2b8732475"
      },
      "outputs": [
        {
          "output_type": "stream",
          "name": "stdout",
          "text": [
            "original array: [7 4 8 2 5]\n",
            "adding 2: [ 9  6 10  4  7]\n",
            "multiplying 3 [21 12 24  6 15]\n",
            "dividing 2: [3.5 2.  4.  1.  2.5]\n"
          ]
        }
      ],
      "source": [
        "import numpy as np\n",
        "arr=np.array([7,4,8,2,5])\n",
        "print(\"original array:\",arr)\n",
        "print(\"adding 2:\",arr+2)\n",
        "print(\"multiplying 3\",arr*3)\n",
        "print(\"dividing 2:\",arr/2)"
      ]
    },
    {
      "cell_type": "markdown",
      "source": [
        "Ques 2"
      ],
      "metadata": {
        "id": "H5ZWR5DrXEBS"
      }
    },
    {
      "cell_type": "code",
      "source": [
        " arr = np.array([1, 2, 3, 6, 4, 5])\n",
        " print(\"reversed array:\",arr[::-1])\n",
        "\n",
        "x = np.array([1,2,3,4,5,1,2,1,1,1])\n",
        "y = np.array([1, 1, 1, 2, 3, 4, 2, 4, 3, 3])\n",
        "print(\"\\nx:\",x)\n",
        "print(\"y:\",y)\n",
        "def most_frequent_value(arr):\n",
        "  unique_values, counts = np.unique(arr, return_counts=True)\n",
        "  index = np.argmax(counts)\n",
        "  frequent_value = unique_values[index]\n",
        "  indices = np.where(arr == frequent_value)[0]\n",
        "  return frequent_value,indices\n",
        "print(\"Most frequent value in x and its indices:\", most_frequent_value(x))\n",
        "print(\"Most frequent value in y and its indices:\",most_frequent_value(y))\n"
      ],
      "metadata": {
        "colab": {
          "base_uri": "https://localhost:8080/"
        },
        "id": "tTr7ejyuG6gU",
        "outputId": "5179de50-87a0-4df1-84b2-d799bd84bf7b"
      },
      "execution_count": 7,
      "outputs": [
        {
          "output_type": "stream",
          "name": "stdout",
          "text": [
            "reversed array: [5 4 6 3 2 1]\n",
            "\n",
            "x: [1 2 3 4 5 1 2 1 1 1]\n",
            "y: [1 1 1 2 3 4 2 4 3 3]\n",
            "Most frequent value in x and its indices: (1, array([0, 5, 7, 8, 9]))\n",
            "Most frequent value in y and its indices: (1, array([0, 1, 2]))\n"
          ]
        }
      ]
    },
    {
      "cell_type": "markdown",
      "source": [
        "Ques 3"
      ],
      "metadata": {
        "id": "AaX8OKyedQpZ"
      }
    },
    {
      "cell_type": "code",
      "source": [
        "arr=np.array([[10, 20, 30], [40, 50, 60], [70, 80, 90]])\n",
        "print(arr[0][1])\n",
        "print(arr[2][0])"
      ],
      "metadata": {
        "colab": {
          "base_uri": "https://localhost:8080/"
        },
        "id": "2POgZwkodSsZ",
        "outputId": "9a39521b-ae1d-46dc-d0ed-2a0eb891d8a5"
      },
      "execution_count": 10,
      "outputs": [
        {
          "output_type": "stream",
          "name": "stdout",
          "text": [
            "20\n",
            "70\n"
          ]
        }
      ]
    },
    {
      "cell_type": "markdown",
      "source": [
        "Ques 4"
      ],
      "metadata": {
        "id": "N2hJO5JYegod"
      }
    },
    {
      "cell_type": "code",
      "source": [
        "ayushi = np.linspace(10,100,25)\n",
        "print(\"Array:\", ayushi)\n",
        "print(\"Dimensions:\", ayushi.ndim)\n",
        "print(\"Shape:\", ayushi.shape)\n",
        "print(\"Total elements:\", ayushi.size)\n",
        "print(\"Data type:\", ayushi.dtype)\n",
        "print(\"Total bytes consumed:\", ayushi.nbytes)\n",
        "\n",
        "transposed = ayushi.reshape(25, 1)\n",
        "print(\"\\nTransposed Array using reshape():\\n\",transposed)\n",
        "transpos_ed = ayushi.T\n",
        "print(\"Transposed Array using T attribute:\\n\", transpos_ed)\n",
        "\n",
        "print(\"\\nTranspose using T attribute-\\n\")\n",
        "reshaped_arr = ayushi.reshape(5,5)\n",
        "print(\"Original Array:\\n\", reshaped_arr)\n",
        "print(\"Transpose:\\n\", reshaped_arr.T)"
      ],
      "metadata": {
        "colab": {
          "base_uri": "https://localhost:8080/"
        },
        "id": "Eot6BMakeh6W",
        "outputId": "29a5e767-1e65-4600-ec43-0582dc51e540"
      },
      "execution_count": 25,
      "outputs": [
        {
          "output_type": "stream",
          "name": "stdout",
          "text": [
            "Array: [ 10.    13.75  17.5   21.25  25.    28.75  32.5   36.25  40.    43.75\n",
            "  47.5   51.25  55.    58.75  62.5   66.25  70.    73.75  77.5   81.25\n",
            "  85.    88.75  92.5   96.25 100.  ]\n",
            "Dimensions: 1\n",
            "Shape: (25,)\n",
            "Total elements: 25\n",
            "Data type: float64\n",
            "Total bytes consumed: 200\n",
            "\n",
            "Transposed Array using reshape():\n",
            " [[ 10.  ]\n",
            " [ 13.75]\n",
            " [ 17.5 ]\n",
            " [ 21.25]\n",
            " [ 25.  ]\n",
            " [ 28.75]\n",
            " [ 32.5 ]\n",
            " [ 36.25]\n",
            " [ 40.  ]\n",
            " [ 43.75]\n",
            " [ 47.5 ]\n",
            " [ 51.25]\n",
            " [ 55.  ]\n",
            " [ 58.75]\n",
            " [ 62.5 ]\n",
            " [ 66.25]\n",
            " [ 70.  ]\n",
            " [ 73.75]\n",
            " [ 77.5 ]\n",
            " [ 81.25]\n",
            " [ 85.  ]\n",
            " [ 88.75]\n",
            " [ 92.5 ]\n",
            " [ 96.25]\n",
            " [100.  ]]\n",
            "Transposed Array using T attribute:\n",
            " [ 10.    13.75  17.5   21.25  25.    28.75  32.5   36.25  40.    43.75\n",
            "  47.5   51.25  55.    58.75  62.5   66.25  70.    73.75  77.5   81.25\n",
            "  85.    88.75  92.5   96.25 100.  ]\n",
            "\n",
            "Transpose using T attribute-\n",
            "\n",
            "Original Array:\n",
            " [[ 10.    13.75  17.5   21.25  25.  ]\n",
            " [ 28.75  32.5   36.25  40.    43.75]\n",
            " [ 47.5   51.25  55.    58.75  62.5 ]\n",
            " [ 66.25  70.    73.75  77.5   81.25]\n",
            " [ 85.    88.75  92.5   96.25 100.  ]]\n",
            "Transpose:\n",
            " [[ 10.    28.75  47.5   66.25  85.  ]\n",
            " [ 13.75  32.5   51.25  70.    88.75]\n",
            " [ 17.5   36.25  55.    73.75  92.5 ]\n",
            " [ 21.25  40.    58.75  77.5   96.25]\n",
            " [ 25.    43.75  62.5   81.25 100.  ]]\n"
          ]
        }
      ]
    },
    {
      "cell_type": "markdown",
      "source": [
        "Ques 5"
      ],
      "metadata": {
        "id": "P3XJObX9h8m7"
      }
    },
    {
      "cell_type": "code",
      "source": [
        "ucs420_ayushi= np.array([[10,20,30,40],\n",
        "                  [50,60,70,80],\n",
        "                  [90,15,20,35]])\n",
        "print(\"Original array:\\n\",ucs420_ayushi)\n",
        "print(\"\\nMean:\", np.mean(ucs420_ayushi))\n",
        "print(\"Median:\", np.median(ucs420_ayushi))\n",
        "print(\"Unique:\", np.unique(ucs420_ayushi))\n",
        "print(\"Minimum:\", np.min(ucs420_ayushi))\n",
        "print(\"Maximum:\", np.max(ucs420_ayushi))\n",
        "print(\"Variance:\", np.var(ucs420_ayushi))\n",
        "print(\"Standard Deviation:\", np.std(ucs420_ayushi))\n",
        "\n",
        "reshaped_ucs420_ayushi = ucs420_ayushi.reshape(4,3)\n",
        "print(\"\\nReshaped array:\\n\", reshaped_ucs420_ayushi)\n",
        "\n",
        "resized_ucs420_ayushi= np.resize(ucs420_ayushi,(2,3))\n",
        "print(\"\\nResized array:\\n\", resized_ucs420_ayushi)"
      ],
      "metadata": {
        "colab": {
          "base_uri": "https://localhost:8080/"
        },
        "id": "nT_roZk0h_KT",
        "outputId": "77ed3b21-5132-4012-b98f-c9380f208650"
      },
      "execution_count": 24,
      "outputs": [
        {
          "output_type": "stream",
          "name": "stdout",
          "text": [
            "Original array:\n",
            " [[10 20 30 40]\n",
            " [50 60 70 80]\n",
            " [90 15 20 35]]\n",
            "\n",
            "Mean: 43.333333333333336\n",
            "Median: 37.5\n",
            "Unique: [10 15 20 30 35 40 50 60 70 80 90]\n",
            "Minimum: 10\n",
            "Maximum: 90\n",
            "Variance: 651.3888888888889\n",
            "Standard Deviation: 25.522321385189258\n",
            "\n",
            "Reshaped array:\n",
            " [[10 20 30]\n",
            " [40 50 60]\n",
            " [70 80 90]\n",
            " [15 20 35]]\n",
            "\n",
            "Resized array:\n",
            " [[10 20 30]\n",
            " [40 50 60]]\n"
          ]
        }
      ]
    }
  ]
}