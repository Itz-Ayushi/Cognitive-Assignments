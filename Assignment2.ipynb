{
  "nbformat": 4,
  "nbformat_minor": 0,
  "metadata": {
    "colab": {
      "provenance": [],
      "authorship_tag": "ABX9TyN+doXq6NDHyn1UVsf9TFjC",
      "include_colab_link": true
    },
    "kernelspec": {
      "name": "python3",
      "display_name": "Python 3"
    },
    "language_info": {
      "name": "python"
    }
  },
  "cells": [
    {
      "cell_type": "markdown",
      "metadata": {
        "id": "view-in-github",
        "colab_type": "text"
      },
      "source": [
        "<a href=\"https://colab.research.google.com/github/Itz-Ayushi/Cognitive-Assignments/blob/main/Assignment2.ipynb\" target=\"_parent\"><img src=\"https://colab.research.google.com/assets/colab-badge.svg\" alt=\"Open In Colab\"/></a>"
      ]
    },
    {
      "cell_type": "code",
      "execution_count": 6,
      "metadata": {
        "colab": {
          "base_uri": "https://localhost:8080/"
        },
        "id": "BLj-78KGeCeW",
        "outputId": "efa6607c-fb9d-4594-9d82-d6df4dc2fce9"
      },
      "outputs": [
        {
          "output_type": "stream",
          "name": "stdout",
          "text": [
            "original list: [10, 20, 30, 40, 50, 60, 70, 80]\n",
            "after appending: [10, 20, 30, 40, 50, 60, 70, 80, 200, 300]\n",
            "after removing: [20, 40, 50, 60, 70, 80, 200, 300]\n",
            "sorted list(ascending): [20, 40, 50, 60, 70, 80, 200, 300]\n",
            "sorted list(descending): [20, 40, 50, 60, 70, 80, 200, 300]\n"
          ]
        }
      ],
      "source": [
        "#ques 1\n",
        "l=[10, 20, 30, 40, 50, 60, 70, 80]\n",
        "print(\"original list:\",l)\n",
        "l.append(200)\n",
        "l.append(300)\n",
        "print(\"after appending:\",l)\n",
        "l.remove(10)\n",
        "l.remove(30)\n",
        "print(\"after removing:\",l)\n",
        "sorted(l)\n",
        "print(\"sorted list(ascending):\",l)\n",
        "sorted(l,reverse=True)\n",
        "print(\"sorted list(descending):\",l)"
      ]
    },
    {
      "cell_type": "code",
      "source": [
        "#ques 2\n",
        "scores=(45,89.5,76,45.4,89,92,58,45)\n",
        "m=max(scores)\n",
        "print(\"highest score:\",m)\n",
        "print(\"index:\",scores.index(m))\n",
        "n=min(scores)\n",
        "print(\"lowest score:\",n)\n",
        "print(scores.count(n),\" times\")\n",
        "print(\"reversed list:\",list(scores[::-1]))\n",
        "print(\"is 76 present in scores? \")\n",
        "if 76 in scores:\n",
        "  print(\"yes at index\", scores.index(76))\n",
        "else:\n",
        "  print(\"not present\")\n",
        "\n"
      ],
      "metadata": {
        "colab": {
          "base_uri": "https://localhost:8080/"
        },
        "id": "jKrEpEZGvzwT",
        "outputId": "faa12bc2-4a85-43aa-97e8-2fe137877b68"
      },
      "execution_count": 9,
      "outputs": [
        {
          "output_type": "stream",
          "name": "stdout",
          "text": [
            "highest score: 92\n",
            "index: 5\n",
            "lowest score: 45\n",
            "2  times\n",
            "reversed list: [45, 58, 92, 89, 45.4, 76, 89.5, 45]\n",
            "is 76 present in scores? \n",
            "yes at index 2\n"
          ]
        }
      ]
    },
    {
      "cell_type": "code",
      "source": [
        "#ques 3\n",
        "import random\n",
        "l=[]\n",
        "for i in range(0,100):\n",
        "  r=random.randint(100,900)\n",
        "  l.append(r)\n",
        "print(l)\n",
        "\n",
        "def isprime(n):\n",
        "    for i in range(2,n):\n",
        "        if n%i==0:\n",
        "          return False\n",
        "    return True\n",
        "\n",
        "c1=0\n",
        "odd=[]\n",
        "c2=0\n",
        "even=[]\n",
        "c3=0\n",
        "prime=[]\n",
        "for i in l:\n",
        "  if i%2!=0:\n",
        "    c1+=1\n",
        "    odd.append(i)\n",
        "  elif i%2==0:\n",
        "    c2+=1\n",
        "    even.append(i)\n",
        "  if isprime(i)==True:\n",
        "    c3+=1\n",
        "    prime.append(i)\n",
        "\n",
        "print(\"no. of odd numbers:\",c1)\n",
        "print(odd)\n",
        "print(\"no. of even numbers:\",c2)\n",
        "print(even)\n",
        "print(\"no. of prime numbers:\",c3)\n",
        "print(prime)\n",
        "\n"
      ],
      "metadata": {
        "colab": {
          "base_uri": "https://localhost:8080/"
        },
        "id": "_D2OZYSV1NHa",
        "outputId": "fc86504b-62a0-444c-b945-69acbc0ccdb9"
      },
      "execution_count": 3,
      "outputs": [
        {
          "output_type": "stream",
          "name": "stdout",
          "text": [
            "[725, 130, 654, 590, 885, 422, 678, 385, 718, 650, 885, 389, 539, 217, 657, 865, 775, 185, 641, 801, 890, 313, 321, 793, 628, 208, 224, 267, 179, 644, 857, 585, 435, 524, 621, 180, 490, 238, 504, 556, 755, 103, 403, 253, 523, 880, 775, 213, 683, 738, 606, 469, 852, 639, 346, 401, 271, 866, 827, 676, 329, 233, 760, 811, 441, 812, 233, 410, 757, 659, 839, 492, 113, 211, 757, 696, 247, 173, 832, 595, 880, 595, 506, 190, 411, 869, 331, 828, 206, 190, 520, 263, 496, 729, 149, 299, 676, 693, 660, 726]\n",
            "no. of odd numbers: 58\n",
            "[725, 885, 385, 885, 389, 539, 217, 657, 865, 775, 185, 641, 801, 313, 321, 793, 267, 179, 857, 585, 435, 621, 755, 103, 403, 253, 523, 775, 213, 683, 469, 639, 401, 271, 827, 329, 233, 811, 441, 233, 757, 659, 839, 113, 211, 757, 247, 173, 595, 595, 411, 869, 331, 263, 729, 149, 299, 693]\n",
            "no. of even numbers: 42\n",
            "[130, 654, 590, 422, 678, 718, 650, 890, 628, 208, 224, 644, 524, 180, 490, 238, 504, 556, 880, 738, 606, 852, 346, 866, 676, 760, 812, 410, 492, 696, 832, 880, 506, 190, 828, 206, 190, 520, 496, 676, 660, 726]\n",
            "no. of prime numbers: 24\n",
            "[389, 641, 313, 179, 857, 103, 523, 683, 401, 271, 827, 233, 811, 233, 757, 659, 839, 113, 211, 757, 173, 331, 263, 149]\n"
          ]
        }
      ]
    },
    {
      "cell_type": "code",
      "source": [
        "  #ques 4\n",
        "  A = {34, 56, 78, 90}\n",
        "  B = {78, 45, 90, 23}\n",
        "\n",
        "  print(\"union:\",A.union(B))\n",
        "  print(\"intersection:\",A.intersection(B))\n",
        "  print(\"symmetric_difference:\",A.symmetric_difference(B))\n",
        "  print(\"Is A subset of B? \",A.issubset(B))\n",
        "  print(\"Is B subset of A? \",B.issubset(A))\n",
        "  a = int(input(\"Enter number to remove from A:\"))\n",
        "  if a in A:\n",
        "    A.remove(a)\n",
        "    print(A)\n",
        "  else:\n",
        "    print(\"Number not found\")\n",
        ""
      ],
      "metadata": {
        "colab": {
          "base_uri": "https://localhost:8080/"
        },
        "id": "gIbFjU9iSccJ",
        "outputId": "b5eee71a-ce26-4556-8e24-ea728cde3869"
      },
      "execution_count": 4,
      "outputs": [
        {
          "output_type": "stream",
          "name": "stdout",
          "text": [
            "union: {34, 45, 78, 23, 56, 90}\n",
            "intersection: {90, 78}\n",
            "symmetric_difference: {34, 45, 23, 56}\n",
            "Is A subset of B?  False\n",
            "Is B subset of A?  False\n",
            "Enter number to remove from A:34\n",
            "{56, 90, 78}\n"
          ]
        }
      ]
    },
    {
      "cell_type": "code",
      "source": [
        "#ques 5\n",
        "d={\"name\":\"Kelly\",\"age\":25,\"salary\":8000,\"city\":\"New york\"}\n",
        "d.pop(\"city\")\n",
        "d[\"location\"]=\"New york\"\n",
        "print(d)"
      ],
      "metadata": {
        "colab": {
          "base_uri": "https://localhost:8080/"
        },
        "id": "6eC0DKFjVWIq",
        "outputId": "6ee3606a-9447-4676-e630-bb69f5b9fdd3"
      },
      "execution_count": 7,
      "outputs": [
        {
          "output_type": "stream",
          "name": "stdout",
          "text": [
            "{'name': 'Kelly', 'age': 25, 'salary': 8000, 'location': 'New york'}\n"
          ]
        }
      ]
    }
  ]
}