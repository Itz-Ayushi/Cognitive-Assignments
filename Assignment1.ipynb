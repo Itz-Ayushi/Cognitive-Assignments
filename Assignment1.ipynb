{
  "nbformat": 4,
  "nbformat_minor": 0,
  "metadata": {
    "colab": {
      "provenance": [],
      "authorship_tag": "ABX9TyMgYmfoqEGPyvRpbYW97Y5+",
      "include_colab_link": true
    },
    "kernelspec": {
      "name": "python3",
      "display_name": "Python 3"
    },
    "language_info": {
      "name": "python"
    }
  },
  "cells": [
    {
      "cell_type": "markdown",
      "metadata": {
        "id": "view-in-github",
        "colab_type": "text"
      },
      "source": [
        "<a href=\"https://colab.research.google.com/github/Itz-Ayushi/Cognitive-Assignments/blob/main/Assignment1.ipynb\" target=\"_parent\"><img src=\"https://colab.research.google.com/assets/colab-badge.svg\" alt=\"Open In Colab\"/></a>"
      ]
    },
    {
      "cell_type": "code",
      "execution_count": null,
      "metadata": {
        "colab": {
          "base_uri": "https://localhost:8080/"
        },
        "id": "WYUdl93L3PII",
        "outputId": "e7f0a4cb-91b6-45de-df2d-157d74ec305f"
      },
      "outputs": [
        {
          "output_type": "stream",
          "name": "stdout",
          "text": [
            "I wish everything goes fine ahead!\n"
          ]
        }
      ],
      "source": [
        "#Q.1\n",
        "print(\"I wish everything goes fine ahead!\")"
      ]
    },
    {
      "cell_type": "code",
      "source": [
        "#Q.2\n",
        "#2.1\n",
        "print(\"adding 2 numbers:\")\n",
        "print(\"8+6: \",8+6)\n",
        "\n",
        "#2.2\n",
        "print(\"concatinating 2 strings:\")\n",
        "str1=\"hello!\"\n",
        "str2=\" it's me\"\n",
        "print(str1+str2)\n",
        "\n",
        "#2.3\n",
        "print(\"concatinating a string and a number:\")\n",
        "s=\"my roll no. ends with \"\n",
        "n=237\n",
        "print(s+str(n))"
      ],
      "metadata": {
        "colab": {
          "base_uri": "https://localhost:8080/"
        },
        "id": "ZX3Qqxv17box",
        "outputId": "5fea8c8e-56e2-4467-b1cb-5b0389fac96e"
      },
      "execution_count": null,
      "outputs": [
        {
          "output_type": "stream",
          "name": "stdout",
          "text": [
            "adding 2 numbers:\n",
            "8+6:  14\n",
            "concatinating 2 strings:\n",
            "hello! it's me\n",
            "concatinating a string and a number:\n",
            "my roll no. ends with 237\n"
          ]
        }
      ]
    },
    {
      "cell_type": "code",
      "source": [
        "#Q.3- check if a no. is positive, negative, or zero and even or odd\n",
        "\n",
        "num=int(input(\"enter a number:\"))\n",
        "if(num>0):\n",
        "    print(\"positive\")\n",
        "\n",
        "elif(num<0):\n",
        "    print(\"negative\")\n",
        "\n",
        "elif(num==0):\n",
        "    print(\"number is zero\")\n",
        "\n",
        "if(num%2==0):\n",
        "    print(\"number is even\")\n",
        "\n",
        "else:\n",
        "    print(\"number is odd\")"
      ],
      "metadata": {
        "colab": {
          "base_uri": "https://localhost:8080/"
        },
        "id": "Y1E3QEhd8B_L",
        "outputId": "6cbdfc71-3798-4608-b88a-8da00a5c7c18"
      },
      "execution_count": null,
      "outputs": [
        {
          "output_type": "stream",
          "name": "stdout",
          "text": [
            "enter a number:35\n",
            "positive\n",
            "number is odd\n"
          ]
        }
      ]
    },
    {
      "cell_type": "code",
      "source": [
        "#Q.4\n",
        "#4.1\n",
        "print(\"numbers 1 to 10 using for loop:\")\n",
        "for i in range(1,11):\n",
        "    print(i)\n",
        "\n",
        "#4.2\n",
        "print(\"numbers 1 to 10 using while loop:\")\n",
        "j=1\n",
        "while(j<=10):\n",
        "    print(j)\n",
        "    j+=1\n",
        "\n",
        "#4.3\n",
        "print(\"sum of numbers 1 to 100:\")\n",
        "sum=0\n",
        "for i in range(1,101):\n",
        "    sum=sum+i\n",
        "print(\"sum:\", sum)\n"
      ],
      "metadata": {
        "colab": {
          "base_uri": "https://localhost:8080/"
        },
        "id": "bdNc5pfv8Paz",
        "outputId": "738d1dee-cf1e-49e7-9a75-98cb578c62de"
      },
      "execution_count": null,
      "outputs": [
        {
          "output_type": "stream",
          "name": "stdout",
          "text": [
            "numbers 1 to 10 using for loop:\n",
            "1\n",
            "2\n",
            "3\n",
            "4\n",
            "5\n",
            "6\n",
            "7\n",
            "8\n",
            "9\n",
            "10\n",
            "numbers 1 to 10 using while loop:\n",
            "1\n",
            "2\n",
            "3\n",
            "4\n",
            "5\n",
            "6\n",
            "7\n",
            "8\n",
            "9\n",
            "10\n",
            "sum of numbers 1 to 100:\n",
            "sum: 5050\n"
          ]
        }
      ]
    },
    {
      "cell_type": "code",
      "source": [
        "#Q-5.1\n",
        "\n",
        "l=[]\n",
        "print(\"enter elements for list:\")\n",
        "for i in range(0,5):\n",
        "    a=int(input())\n",
        "    l.append(a)\n",
        "\n",
        "print(\"largest element:\",max(l))\n",
        "print(\"smallest element:\",min(l))\n"
      ],
      "metadata": {
        "colab": {
          "base_uri": "https://localhost:8080/"
        },
        "id": "EQgLkaH58dkN",
        "outputId": "ae4c5602-2117-4d84-e228-71a9913b6e10"
      },
      "execution_count": null,
      "outputs": [
        {
          "output_type": "stream",
          "name": "stdout",
          "text": [
            "enter elements for list:\n",
            " 6\n",
            "3\n",
            "9\n",
            "5\n",
            "1\n",
            "largest element: 9\n",
            "smallest element: 1\n"
          ]
        }
      ]
    },
    {
      "cell_type": "code",
      "source": [
        "#Q-5.2\n",
        "d={}\n",
        "for i in range(0,3):\n",
        "    k=input(\"enter key:\")\n",
        "    v=input(\"enter value:\")\n",
        "    d[k]=v\n",
        "print(d)\n",
        "\n",
        "a=input(\"\\nenter key to retrieve value:\")\n",
        "for i in d.values():\n",
        "    if d[a]==i:\n",
        "        print(i)\n",
        "\n",
        "\n"
      ],
      "metadata": {
        "colab": {
          "base_uri": "https://localhost:8080/"
        },
        "id": "gWvpotKR89Vf",
        "outputId": "c5106f8c-b5d6-4596-f43e-47317340901a"
      },
      "execution_count": null,
      "outputs": [
        {
          "output_type": "stream",
          "name": "stdout",
          "text": [
            "enter key:red\n",
            "enter value:apple\n",
            "enter key:yellow\n",
            "enter value:banana\n",
            "enter key:green\n",
            "enter value:grapes\n",
            "{'red': 'apple', 'yellow': 'banana', 'green': 'grapes'}\n",
            "\n",
            "enter key to retrieve value:red\n",
            "apple\n"
          ]
        }
      ]
    },
    {
      "cell_type": "code",
      "source": [
        "#Q-5.3\n",
        "l=[6,8,2,1,5,7,9]\n",
        "print(\"ascending:\",sorted(l))\n",
        "print(\"ascending:\",sorted(l, reverse=True))"
      ],
      "metadata": {
        "colab": {
          "base_uri": "https://localhost:8080/"
        },
        "id": "vA-o_udb9Nvl",
        "outputId": "7a603fdf-4d7a-4b2c-ef19-72857b033dd1"
      },
      "execution_count": null,
      "outputs": [
        {
          "output_type": "stream",
          "name": "stdout",
          "text": [
            "ascending: [1, 2, 5, 6, 7, 8, 9]\n",
            "ascending: [9, 8, 7, 6, 5, 2, 1]\n"
          ]
        }
      ]
    },
    {
      "cell_type": "code",
      "source": [
        "#Q-5.4\n",
        "d1={}\n",
        "d2={}\n",
        "for i in range(0,3):\n",
        "    k=input(\"enter roll no:\")\n",
        "    v=input(\"enter name:\")\n",
        "    d1[k]=v\n",
        "\n",
        "for i in range(0,2):\n",
        "    r=input(\"enter roll no:\")\n",
        "    n=input(\"enter name:\")\n",
        "    d2[r]=n\n",
        "print(d1)\n",
        "print(d2)\n",
        "d1.update(d2)\n",
        "print(d1)"
      ],
      "metadata": {
        "colab": {
          "base_uri": "https://localhost:8080/"
        },
        "id": "gaBVIhFJ9WNf",
        "outputId": "721a191f-718a-42ca-e3e7-a00198a68c59"
      },
      "execution_count": null,
      "outputs": [
        {
          "output_type": "stream",
          "name": "stdout",
          "text": [
            "enter roll no:1\n",
            "enter name:riya\n",
            "enter roll no:2\n",
            "enter name:rohan\n",
            "enter roll no:3\n",
            "enter name:navya\n",
            "enter roll no:4\n",
            "enter name:siya\n",
            "enter roll no:5\n",
            "enter name:arjun\n",
            "{'1': 'riya', '2': 'rohan', '3': 'navya'}\n",
            "{'4': 'siya', '5': 'arjun'}\n",
            "{'1': 'riya', '2': 'rohan', '3': 'navya', '4': 'siya', '5': 'arjun'}\n"
          ]
        }
      ]
    },
    {
      "cell_type": "code",
      "source": [
        "#Q.6\n",
        "s=str(input(\"enter a string:\"))\n",
        "count=0\n",
        "for i in s:\n",
        "    if i in \"aeiouAEIOU\":\n",
        "        count+=1\n",
        "print(\"no. of vowels:\", count)\n",
        "\n",
        "rev=s[::-1]\n",
        "print(\"reversed string:\", rev)\n",
        "\n",
        "if s==rev:\n",
        "    print(\"\\nstring is a palindrome\")\n",
        "else:\n",
        "    print(\"\\nnot a palindrome\")"
      ],
      "metadata": {
        "colab": {
          "base_uri": "https://localhost:8080/"
        },
        "id": "7XaFWsic-UTq",
        "outputId": "d605001e-115c-4b33-95d2-38fbf6dec108"
      },
      "execution_count": null,
      "outputs": [
        {
          "output_type": "stream",
          "name": "stdout",
          "text": [
            "enter a string:malayalam\n",
            "no. of vowels: 4\n",
            "reversed string: malayalam\n",
            "\n",
            "string is a palindrome\n"
          ]
        }
      ]
    },
    {
      "cell_type": "code",
      "source": [
        "#Q-7.1\n",
        "f=open(\"student.txt\",'w+')\n",
        "f.write(\"Hi! This is Ayushi.\")\n",
        "f.write(\"\\nA computer science student.\")\n",
        "f.write(\"\\nThis is cognitive computing.\")\n",
        "f.seek(0)\n",
        "r=f.read()\n",
        "print(r)\n",
        "f.close()"
      ],
      "metadata": {
        "colab": {
          "base_uri": "https://localhost:8080/"
        },
        "id": "SBV-OCYB_Ni6",
        "outputId": "1eae150f-ef2a-42a6-cb8c-88241e39a6d0"
      },
      "execution_count": null,
      "outputs": [
        {
          "output_type": "stream",
          "name": "stdout",
          "text": [
            "Hi! This is Ayushi.\n",
            "A computer science student.\n",
            "This is cognitive computing.\n"
          ]
        }
      ]
    },
    {
      "cell_type": "code",
      "source": [
        "#Q-7.2\n",
        "f=open(\"student.txt\",'a')\n",
        "str1=str(input(\"enter line to append:\"))\n",
        "f.write(str1)\n",
        "f.close()\n",
        "print(\"text appended to file-\\n\")\n",
        "f=open(\"student.txt\",'r')\n",
        "print(f.read())\n",
        "f.close()\n"
      ],
      "metadata": {
        "colab": {
          "base_uri": "https://localhost:8080/"
        },
        "id": "Dm7LjQ7mBEcI",
        "outputId": "07377fb6-5728-411e-bc18-b885a7ba4ce6"
      },
      "execution_count": null,
      "outputs": [
        {
          "output_type": "stream",
          "name": "stdout",
          "text": [
            "enter line to append:good morning\n",
            "text appended to file-\n",
            "\n",
            "Hi! This is Ayushi.\n",
            "A computer science student.\n",
            "This is cognitive computing.good morning\n"
          ]
        }
      ]
    },
    {
      "cell_type": "code",
      "source": [
        "#Q-7.3\n",
        "f=open(\"student.txt\",'r')\n",
        "line_count=len(f.readlines())\n",
        "print(\"no. of lines-\",line_count)\n",
        "f.close()"
      ],
      "metadata": {
        "colab": {
          "base_uri": "https://localhost:8080/"
        },
        "id": "PAO5hBFaBeJG",
        "outputId": "b9dfa065-9cf3-4dc9-bb2d-05e2649fb616"
      },
      "execution_count": null,
      "outputs": [
        {
          "output_type": "stream",
          "name": "stdout",
          "text": [
            "no. of lines- 3\n"
          ]
        }
      ]
    },
    {
      "cell_type": "code",
      "source": [
        "#Q-8.1\n",
        "n=int(input(\"enter numerator:\"))\n",
        "d=int(input(\"enter denominator:\"))\n",
        "try:\n",
        "    result=n/d\n",
        "    print(result)\n",
        "except ZeroDivisionError :\n",
        "        print(\"number cannot be devided by zero\")\n"
      ],
      "metadata": {
        "colab": {
          "base_uri": "https://localhost:8080/"
        },
        "id": "O-aRovG2DL_V",
        "outputId": "0ae8022b-0ffe-4895-afe7-da8606fc0afc"
      },
      "execution_count": null,
      "outputs": [
        {
          "output_type": "stream",
          "name": "stdout",
          "text": [
            "enter numerator:5\n",
            "enter denominator:0\n",
            "number cannot be devided by zero\n"
          ]
        }
      ]
    },
    {
      "cell_type": "code",
      "source": [
        "#Q-8.2\n",
        "try:\n",
        "    a = int(input(\"Enter a number : \"))\n",
        "    print(a)\n",
        "except ValueError :\n",
        "    print(\"Invalid input, please enter a number\")\n",
        "#Q-8.3\n",
        "finally:\n",
        "  print(\"code executed successfully\")"
      ],
      "metadata": {
        "colab": {
          "base_uri": "https://localhost:8080/"
        },
        "id": "vw5eSXNwFAof",
        "outputId": "843710df-1a4a-4bd0-abf8-87aa09ceb834"
      },
      "execution_count": null,
      "outputs": [
        {
          "output_type": "stream",
          "name": "stdout",
          "text": [
            "Enter a number : cs\n",
            "Invalid input, please enter a number\n",
            "code executed successfully\n"
          ]
        }
      ]
    },
    {
      "cell_type": "code",
      "source": [
        "#Q-9.1\n",
        "import random\n",
        "for i in range(0,5):\n",
        "  num = random.randint(1,100)\n",
        "  print(num)\n"
      ],
      "metadata": {
        "colab": {
          "base_uri": "https://localhost:8080/"
        },
        "id": "-ISjaBiYFkmx",
        "outputId": "a2494f30-6b01-40cb-ac88-dcf365618ca9"
      },
      "execution_count": null,
      "outputs": [
        {
          "output_type": "stream",
          "name": "stdout",
          "text": [
            "2\n",
            "43\n",
            "51\n",
            "87\n",
            "56\n"
          ]
        }
      ]
    },
    {
      "cell_type": "code",
      "source": [
        "#Q-9.2\n",
        "import random\n",
        "num=random.randint(1,100)\n",
        "print(\"number is:\",num)\n",
        "if(num<2):\n",
        "  print(\"number is not prime\")\n",
        "for i in range(2,num):\n",
        "  if(num%i==0):\n",
        "    print(\"number is not prime\")\n",
        "    break;\n",
        "  else:\n",
        "    print(\"number is prime\")\n",
        "\n"
      ],
      "metadata": {
        "colab": {
          "base_uri": "https://localhost:8080/"
        },
        "id": "mTkC-aTcHwZ2",
        "outputId": "2ff6c1fd-3ca1-42db-f664-9a09358bf336"
      },
      "execution_count": 14,
      "outputs": [
        {
          "output_type": "stream",
          "name": "stdout",
          "text": [
            "number is: 28\n",
            "number is not prime\n"
          ]
        }
      ]
    },
    {
      "cell_type": "code",
      "source": [
        "#Q-9.3\n",
        "num = random.randint(1,6)\n",
        "print(\"number on die : \",num)"
      ],
      "metadata": {
        "colab": {
          "base_uri": "https://localhost:8080/"
        },
        "id": "_xeUr1qmIbpN",
        "outputId": "dcbb1376-85f3-4efe-c5ba-99a451d39860"
      },
      "execution_count": null,
      "outputs": [
        {
          "output_type": "stream",
          "name": "stdout",
          "text": [
            "number on die :  2\n"
          ]
        }
      ]
    },
    {
      "cell_type": "code",
      "source": [
        "#Q-9.4\n",
        "l = [7,3,2,8,3,0,1,4,5]\n",
        "random.shuffle(l)\n",
        "print(l)"
      ],
      "metadata": {
        "colab": {
          "base_uri": "https://localhost:8080/"
        },
        "id": "xhlSL_6EJPpZ",
        "outputId": "183f16f1-3afa-44ea-a20e-c911eb02406a"
      },
      "execution_count": null,
      "outputs": [
        {
          "output_type": "stream",
          "name": "stdout",
          "text": [
            "[1, 3, 8, 2, 7, 5, 3, 4, 0]\n"
          ]
        }
      ]
    },
    {
      "cell_type": "code",
      "source": [
        "#Q-9.5\n",
        "l=[8,5,2,9,0,6,3]\n",
        "r=random.choice(l)\n",
        "print(r)"
      ],
      "metadata": {
        "colab": {
          "base_uri": "https://localhost:8080/"
        },
        "id": "BFWERXoTJoUq",
        "outputId": "ce1cbc90-ac41-45e2-f374-ec056b887175"
      },
      "execution_count": null,
      "outputs": [
        {
          "output_type": "stream",
          "name": "stdout",
          "text": [
            "2\n"
          ]
        }
      ]
    },
    {
      "cell_type": "code",
      "source": [
        "#Q-9.6\n",
        "len=int(input(\"enter length of password:\"))\n",
        "p=\"ABCDEFGHIJKLMNOPQRSTUVWXYZabcdefghijklmnopqrstuvwxyz1234567890\"\n",
        "pswrd=\" \"\n",
        "for i in range(0,len):\n",
        "  pswrd=pswrd+random.choice(p)\n",
        "print(pswrd)\n"
      ],
      "metadata": {
        "colab": {
          "base_uri": "https://localhost:8080/"
        },
        "id": "JbFV99TGKENa",
        "outputId": "3a51ae1f-00f9-4f2d-bb04-82b592114915"
      },
      "execution_count": null,
      "outputs": [
        {
          "output_type": "stream",
          "name": "stdout",
          "text": [
            "enter length of password:8\n",
            " cgXr1lgM\n"
          ]
        }
      ]
    },
    {
      "cell_type": "code",
      "source": [
        "#Q-9.7\n",
        "suits=[\"Spades\",\"Hearts\",\"Diamonds\",\"Clubs\"]\n",
        "cards = [2,3,4,5,6,7,8,9,10,\"Jack\",\"King\",\"Queen\",\"Ace\"]\n",
        "s=random.choice(suits)\n",
        "c=random.choice(cards)\n",
        "print(c,\" of \",s)\n"
      ],
      "metadata": {
        "colab": {
          "base_uri": "https://localhost:8080/"
        },
        "id": "28qf7uZZLdju",
        "outputId": "3b43e536-ddee-44d8-ea48-803842000b60"
      },
      "execution_count": null,
      "outputs": [
        {
          "output_type": "stream",
          "name": "stdout",
          "text": [
            "King  of  Clubs\n"
          ]
        }
      ]
    },
    {
      "cell_type": "code",
      "source": [
        "#Q-10.1\n",
        "import sys\n",
        "sys.argv=[1,2,3]\n",
        "a=int(sys.argv[1])\n",
        "b=int(sys.argv[2])\n",
        "print(a+b)"
      ],
      "metadata": {
        "colab": {
          "base_uri": "https://localhost:8080/"
        },
        "id": "spsZHPvdMvsY",
        "outputId": "f166cabf-3233-4943-96b0-82ecc5604c6e"
      },
      "execution_count": null,
      "outputs": [
        {
          "output_type": "stream",
          "name": "stdout",
          "text": [
            "5\n"
          ]
        }
      ]
    },
    {
      "cell_type": "code",
      "source": [
        "#Q-10.2\n",
        "import sys\n",
        "sys.argv=[\"cognitive\",\"computing\"]\n",
        "str_len=len(sys.argv[1])\n",
        "print(str_len)"
      ],
      "metadata": {
        "colab": {
          "base_uri": "https://localhost:8080/",
          "height": 193
        },
        "collapsed": true,
        "id": "EpM-SE4bRE2q",
        "outputId": "c605f55e-e394-4c82-bc42-58fbd5bacda2"
      },
      "execution_count": null,
      "outputs": [
        {
          "output_type": "error",
          "ename": "TypeError",
          "evalue": "'int' object is not callable",
          "traceback": [
            "\u001b[0;31m---------------------------------------------------------------------------\u001b[0m",
            "\u001b[0;31mTypeError\u001b[0m                                 Traceback (most recent call last)",
            "\u001b[0;32m<ipython-input-56-ff22193d0b60>\u001b[0m in \u001b[0;36m<cell line: 0>\u001b[0;34m()\u001b[0m\n\u001b[1;32m      1\u001b[0m \u001b[0;32mimport\u001b[0m \u001b[0msys\u001b[0m\u001b[0;34m\u001b[0m\u001b[0;34m\u001b[0m\u001b[0m\n\u001b[1;32m      2\u001b[0m \u001b[0msys\u001b[0m\u001b[0;34m.\u001b[0m\u001b[0margv\u001b[0m\u001b[0;34m=\u001b[0m\u001b[0;34m[\u001b[0m\u001b[0;34m\"cognitive\"\u001b[0m\u001b[0;34m,\u001b[0m\u001b[0;34m\"computing\"\u001b[0m\u001b[0;34m]\u001b[0m\u001b[0;34m\u001b[0m\u001b[0;34m\u001b[0m\u001b[0m\n\u001b[0;32m----> 3\u001b[0;31m \u001b[0mstr_len\u001b[0m\u001b[0;34m=\u001b[0m\u001b[0mlen\u001b[0m\u001b[0;34m(\u001b[0m\u001b[0msys\u001b[0m\u001b[0;34m.\u001b[0m\u001b[0margv\u001b[0m\u001b[0;34m[\u001b[0m\u001b[0;36m1\u001b[0m\u001b[0;34m]\u001b[0m\u001b[0;34m)\u001b[0m\u001b[0;34m\u001b[0m\u001b[0;34m\u001b[0m\u001b[0m\n\u001b[0m\u001b[1;32m      4\u001b[0m \u001b[0mprint\u001b[0m\u001b[0;34m(\u001b[0m\u001b[0mstr_len\u001b[0m\u001b[0;34m)\u001b[0m\u001b[0;34m\u001b[0m\u001b[0;34m\u001b[0m\u001b[0m\n",
            "\u001b[0;31mTypeError\u001b[0m: 'int' object is not callable"
          ]
        }
      ]
    },
    {
      "cell_type": "code",
      "source": [
        "#Q.11\n",
        "import math\n",
        "import os\n",
        "import datetime\n",
        "\n",
        "print(\"square root of 36:\",math.sqrt(36))\n",
        "\n",
        "print(\"current date and time:\",datetime.datetime.now())\n",
        "\n",
        "print(\"current directory:\",os.listdir())\n"
      ],
      "metadata": {
        "colab": {
          "base_uri": "https://localhost:8080/"
        },
        "id": "w6mqiH9hTJtx",
        "outputId": "5e59cff8-5b00-4561-d69e-c8bed6d65076"
      },
      "execution_count": null,
      "outputs": [
        {
          "output_type": "stream",
          "name": "stdout",
          "text": [
            "square root of 36: 6.0\n",
            "current date and time: 2025-01-18 12:09:51.383984\n",
            "current directory: ['.config', 'student.txt', 'sample_data']\n"
          ]
        }
      ]
    }
  ]
}